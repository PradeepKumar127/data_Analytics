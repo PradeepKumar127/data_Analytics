{
 "cells": [
  {
   "cell_type": "code",
   "execution_count": 2,
   "metadata": {
    "id": "EqdqKeaYgcnD"
   },
   "outputs": [],
   "source": [
    "import numpy as np"
   ]
  },
  {
   "cell_type": "code",
   "execution_count": 3,
   "metadata": {
    "id": "EyZ0ithViJny"
   },
   "outputs": [],
   "source": [
    "import pandas as pd"
   ]
  },
  {
   "cell_type": "code",
   "execution_count": 4,
   "metadata": {
    "id": "1siEeA7i3f_F"
   },
   "outputs": [],
   "source": [
    "import matplotlib.pyplot as plt\n",
    "import seaborn as snb"
   ]
  },
  {
   "cell_type": "code",
   "execution_count": 5,
   "metadata": {
    "id": "R70MUFgpiMoP"
   },
   "outputs": [],
   "source": [
    "dv=pd.read_csv('DoctorVisits.csv')"
   ]
  },
  {
   "cell_type": "code",
   "execution_count": 6,
   "metadata": {
    "colab": {
     "base_uri": "https://localhost:8080/",
     "height": 505
    },
    "id": "VvzSv2Gcir22",
    "outputId": "ed8a6ef9-3487-4e37-fea9-611bdcca5d57"
   },
   "outputs": [
    {
     "data": {
      "text/html": [
       "<div>\n",
       "<style scoped>\n",
       "    .dataframe tbody tr th:only-of-type {\n",
       "        vertical-align: middle;\n",
       "    }\n",
       "\n",
       "    .dataframe tbody tr th {\n",
       "        vertical-align: top;\n",
       "    }\n",
       "\n",
       "    .dataframe thead th {\n",
       "        text-align: right;\n",
       "    }\n",
       "</style>\n",
       "<table border=\"1\" class=\"dataframe\">\n",
       "  <thead>\n",
       "    <tr style=\"text-align: right;\">\n",
       "      <th></th>\n",
       "      <th>Unnamed: 0</th>\n",
       "      <th>visits</th>\n",
       "      <th>gender</th>\n",
       "      <th>age</th>\n",
       "      <th>income</th>\n",
       "      <th>illness</th>\n",
       "      <th>reduced</th>\n",
       "      <th>health</th>\n",
       "      <th>private</th>\n",
       "      <th>freepoor</th>\n",
       "      <th>freerepat</th>\n",
       "      <th>nchronic</th>\n",
       "      <th>lchronic</th>\n",
       "    </tr>\n",
       "  </thead>\n",
       "  <tbody>\n",
       "    <tr>\n",
       "      <th>0</th>\n",
       "      <td>1</td>\n",
       "      <td>1</td>\n",
       "      <td>female</td>\n",
       "      <td>0.19</td>\n",
       "      <td>0.55</td>\n",
       "      <td>1</td>\n",
       "      <td>4</td>\n",
       "      <td>1</td>\n",
       "      <td>yes</td>\n",
       "      <td>no</td>\n",
       "      <td>no</td>\n",
       "      <td>no</td>\n",
       "      <td>no</td>\n",
       "    </tr>\n",
       "    <tr>\n",
       "      <th>1</th>\n",
       "      <td>2</td>\n",
       "      <td>1</td>\n",
       "      <td>female</td>\n",
       "      <td>0.19</td>\n",
       "      <td>0.45</td>\n",
       "      <td>1</td>\n",
       "      <td>2</td>\n",
       "      <td>1</td>\n",
       "      <td>yes</td>\n",
       "      <td>no</td>\n",
       "      <td>no</td>\n",
       "      <td>no</td>\n",
       "      <td>no</td>\n",
       "    </tr>\n",
       "    <tr>\n",
       "      <th>2</th>\n",
       "      <td>3</td>\n",
       "      <td>1</td>\n",
       "      <td>male</td>\n",
       "      <td>0.19</td>\n",
       "      <td>0.90</td>\n",
       "      <td>3</td>\n",
       "      <td>0</td>\n",
       "      <td>0</td>\n",
       "      <td>no</td>\n",
       "      <td>no</td>\n",
       "      <td>no</td>\n",
       "      <td>no</td>\n",
       "      <td>no</td>\n",
       "    </tr>\n",
       "    <tr>\n",
       "      <th>3</th>\n",
       "      <td>4</td>\n",
       "      <td>1</td>\n",
       "      <td>male</td>\n",
       "      <td>0.19</td>\n",
       "      <td>0.15</td>\n",
       "      <td>1</td>\n",
       "      <td>0</td>\n",
       "      <td>0</td>\n",
       "      <td>no</td>\n",
       "      <td>no</td>\n",
       "      <td>no</td>\n",
       "      <td>no</td>\n",
       "      <td>no</td>\n",
       "    </tr>\n",
       "    <tr>\n",
       "      <th>4</th>\n",
       "      <td>5</td>\n",
       "      <td>1</td>\n",
       "      <td>male</td>\n",
       "      <td>0.19</td>\n",
       "      <td>0.45</td>\n",
       "      <td>2</td>\n",
       "      <td>5</td>\n",
       "      <td>1</td>\n",
       "      <td>no</td>\n",
       "      <td>no</td>\n",
       "      <td>no</td>\n",
       "      <td>yes</td>\n",
       "      <td>no</td>\n",
       "    </tr>\n",
       "    <tr>\n",
       "      <th>...</th>\n",
       "      <td>...</td>\n",
       "      <td>...</td>\n",
       "      <td>...</td>\n",
       "      <td>...</td>\n",
       "      <td>...</td>\n",
       "      <td>...</td>\n",
       "      <td>...</td>\n",
       "      <td>...</td>\n",
       "      <td>...</td>\n",
       "      <td>...</td>\n",
       "      <td>...</td>\n",
       "      <td>...</td>\n",
       "      <td>...</td>\n",
       "    </tr>\n",
       "    <tr>\n",
       "      <th>5185</th>\n",
       "      <td>5186</td>\n",
       "      <td>0</td>\n",
       "      <td>female</td>\n",
       "      <td>0.22</td>\n",
       "      <td>0.55</td>\n",
       "      <td>0</td>\n",
       "      <td>0</td>\n",
       "      <td>0</td>\n",
       "      <td>no</td>\n",
       "      <td>no</td>\n",
       "      <td>no</td>\n",
       "      <td>no</td>\n",
       "      <td>no</td>\n",
       "    </tr>\n",
       "    <tr>\n",
       "      <th>5186</th>\n",
       "      <td>5187</td>\n",
       "      <td>0</td>\n",
       "      <td>male</td>\n",
       "      <td>0.27</td>\n",
       "      <td>1.30</td>\n",
       "      <td>0</td>\n",
       "      <td>0</td>\n",
       "      <td>1</td>\n",
       "      <td>no</td>\n",
       "      <td>no</td>\n",
       "      <td>no</td>\n",
       "      <td>no</td>\n",
       "      <td>no</td>\n",
       "    </tr>\n",
       "    <tr>\n",
       "      <th>5187</th>\n",
       "      <td>5188</td>\n",
       "      <td>0</td>\n",
       "      <td>female</td>\n",
       "      <td>0.37</td>\n",
       "      <td>0.25</td>\n",
       "      <td>1</td>\n",
       "      <td>0</td>\n",
       "      <td>1</td>\n",
       "      <td>no</td>\n",
       "      <td>no</td>\n",
       "      <td>yes</td>\n",
       "      <td>no</td>\n",
       "      <td>no</td>\n",
       "    </tr>\n",
       "    <tr>\n",
       "      <th>5188</th>\n",
       "      <td>5189</td>\n",
       "      <td>0</td>\n",
       "      <td>female</td>\n",
       "      <td>0.52</td>\n",
       "      <td>0.65</td>\n",
       "      <td>0</td>\n",
       "      <td>0</td>\n",
       "      <td>0</td>\n",
       "      <td>no</td>\n",
       "      <td>no</td>\n",
       "      <td>no</td>\n",
       "      <td>no</td>\n",
       "      <td>no</td>\n",
       "    </tr>\n",
       "    <tr>\n",
       "      <th>5189</th>\n",
       "      <td>5190</td>\n",
       "      <td>0</td>\n",
       "      <td>male</td>\n",
       "      <td>0.72</td>\n",
       "      <td>0.25</td>\n",
       "      <td>0</td>\n",
       "      <td>0</td>\n",
       "      <td>0</td>\n",
       "      <td>no</td>\n",
       "      <td>no</td>\n",
       "      <td>yes</td>\n",
       "      <td>no</td>\n",
       "      <td>no</td>\n",
       "    </tr>\n",
       "  </tbody>\n",
       "</table>\n",
       "<p>5190 rows × 13 columns</p>\n",
       "</div>"
      ],
      "text/plain": [
       "      Unnamed: 0  visits  gender   age  income  illness  reduced  health  \\\n",
       "0              1       1  female  0.19    0.55        1        4       1   \n",
       "1              2       1  female  0.19    0.45        1        2       1   \n",
       "2              3       1    male  0.19    0.90        3        0       0   \n",
       "3              4       1    male  0.19    0.15        1        0       0   \n",
       "4              5       1    male  0.19    0.45        2        5       1   \n",
       "...          ...     ...     ...   ...     ...      ...      ...     ...   \n",
       "5185        5186       0  female  0.22    0.55        0        0       0   \n",
       "5186        5187       0    male  0.27    1.30        0        0       1   \n",
       "5187        5188       0  female  0.37    0.25        1        0       1   \n",
       "5188        5189       0  female  0.52    0.65        0        0       0   \n",
       "5189        5190       0    male  0.72    0.25        0        0       0   \n",
       "\n",
       "     private freepoor freerepat nchronic lchronic  \n",
       "0        yes       no        no       no       no  \n",
       "1        yes       no        no       no       no  \n",
       "2         no       no        no       no       no  \n",
       "3         no       no        no       no       no  \n",
       "4         no       no        no      yes       no  \n",
       "...      ...      ...       ...      ...      ...  \n",
       "5185      no       no        no       no       no  \n",
       "5186      no       no        no       no       no  \n",
       "5187      no       no       yes       no       no  \n",
       "5188      no       no        no       no       no  \n",
       "5189      no       no       yes       no       no  \n",
       "\n",
       "[5190 rows x 13 columns]"
      ]
     },
     "execution_count": 6,
     "metadata": {},
     "output_type": "execute_result"
    }
   ],
   "source": [
    "dv"
   ]
  },
  {
   "cell_type": "code",
   "execution_count": 7,
   "metadata": {
    "colab": {
     "base_uri": "https://localhost:8080/",
     "height": 444
    },
    "id": "7KqNtFAiivRw",
    "outputId": "1abf3db8-ebdf-4cd3-8bf4-49a4b7e38dfc"
   },
   "outputs": [
    {
     "data": {
      "text/html": [
       "<div>\n",
       "<style scoped>\n",
       "    .dataframe tbody tr th:only-of-type {\n",
       "        vertical-align: middle;\n",
       "    }\n",
       "\n",
       "    .dataframe tbody tr th {\n",
       "        vertical-align: top;\n",
       "    }\n",
       "\n",
       "    .dataframe thead th {\n",
       "        text-align: right;\n",
       "    }\n",
       "</style>\n",
       "<table border=\"1\" class=\"dataframe\">\n",
       "  <thead>\n",
       "    <tr style=\"text-align: right;\">\n",
       "      <th></th>\n",
       "      <th>Unnamed: 0</th>\n",
       "      <th>visits</th>\n",
       "      <th>gender</th>\n",
       "      <th>age</th>\n",
       "      <th>income</th>\n",
       "      <th>illness</th>\n",
       "      <th>reduced</th>\n",
       "      <th>health</th>\n",
       "      <th>private</th>\n",
       "      <th>freepoor</th>\n",
       "      <th>freerepat</th>\n",
       "      <th>nchronic</th>\n",
       "      <th>lchronic</th>\n",
       "    </tr>\n",
       "  </thead>\n",
       "  <tbody>\n",
       "    <tr>\n",
       "      <th>0</th>\n",
       "      <td>1</td>\n",
       "      <td>1</td>\n",
       "      <td>female</td>\n",
       "      <td>0.19</td>\n",
       "      <td>0.55</td>\n",
       "      <td>1</td>\n",
       "      <td>4</td>\n",
       "      <td>1</td>\n",
       "      <td>yes</td>\n",
       "      <td>no</td>\n",
       "      <td>no</td>\n",
       "      <td>no</td>\n",
       "      <td>no</td>\n",
       "    </tr>\n",
       "    <tr>\n",
       "      <th>1</th>\n",
       "      <td>2</td>\n",
       "      <td>1</td>\n",
       "      <td>female</td>\n",
       "      <td>0.19</td>\n",
       "      <td>0.45</td>\n",
       "      <td>1</td>\n",
       "      <td>2</td>\n",
       "      <td>1</td>\n",
       "      <td>yes</td>\n",
       "      <td>no</td>\n",
       "      <td>no</td>\n",
       "      <td>no</td>\n",
       "      <td>no</td>\n",
       "    </tr>\n",
       "    <tr>\n",
       "      <th>2</th>\n",
       "      <td>3</td>\n",
       "      <td>1</td>\n",
       "      <td>male</td>\n",
       "      <td>0.19</td>\n",
       "      <td>0.90</td>\n",
       "      <td>3</td>\n",
       "      <td>0</td>\n",
       "      <td>0</td>\n",
       "      <td>no</td>\n",
       "      <td>no</td>\n",
       "      <td>no</td>\n",
       "      <td>no</td>\n",
       "      <td>no</td>\n",
       "    </tr>\n",
       "    <tr>\n",
       "      <th>3</th>\n",
       "      <td>4</td>\n",
       "      <td>1</td>\n",
       "      <td>male</td>\n",
       "      <td>0.19</td>\n",
       "      <td>0.15</td>\n",
       "      <td>1</td>\n",
       "      <td>0</td>\n",
       "      <td>0</td>\n",
       "      <td>no</td>\n",
       "      <td>no</td>\n",
       "      <td>no</td>\n",
       "      <td>no</td>\n",
       "      <td>no</td>\n",
       "    </tr>\n",
       "    <tr>\n",
       "      <th>4</th>\n",
       "      <td>5</td>\n",
       "      <td>1</td>\n",
       "      <td>male</td>\n",
       "      <td>0.19</td>\n",
       "      <td>0.45</td>\n",
       "      <td>2</td>\n",
       "      <td>5</td>\n",
       "      <td>1</td>\n",
       "      <td>no</td>\n",
       "      <td>no</td>\n",
       "      <td>no</td>\n",
       "      <td>yes</td>\n",
       "      <td>no</td>\n",
       "    </tr>\n",
       "    <tr>\n",
       "      <th>5</th>\n",
       "      <td>6</td>\n",
       "      <td>1</td>\n",
       "      <td>female</td>\n",
       "      <td>0.19</td>\n",
       "      <td>0.35</td>\n",
       "      <td>5</td>\n",
       "      <td>1</td>\n",
       "      <td>9</td>\n",
       "      <td>no</td>\n",
       "      <td>no</td>\n",
       "      <td>no</td>\n",
       "      <td>yes</td>\n",
       "      <td>no</td>\n",
       "    </tr>\n",
       "    <tr>\n",
       "      <th>6</th>\n",
       "      <td>7</td>\n",
       "      <td>1</td>\n",
       "      <td>female</td>\n",
       "      <td>0.19</td>\n",
       "      <td>0.55</td>\n",
       "      <td>4</td>\n",
       "      <td>0</td>\n",
       "      <td>2</td>\n",
       "      <td>no</td>\n",
       "      <td>no</td>\n",
       "      <td>no</td>\n",
       "      <td>no</td>\n",
       "      <td>no</td>\n",
       "    </tr>\n",
       "    <tr>\n",
       "      <th>7</th>\n",
       "      <td>8</td>\n",
       "      <td>1</td>\n",
       "      <td>female</td>\n",
       "      <td>0.19</td>\n",
       "      <td>0.15</td>\n",
       "      <td>3</td>\n",
       "      <td>0</td>\n",
       "      <td>6</td>\n",
       "      <td>no</td>\n",
       "      <td>no</td>\n",
       "      <td>no</td>\n",
       "      <td>no</td>\n",
       "      <td>no</td>\n",
       "    </tr>\n",
       "    <tr>\n",
       "      <th>8</th>\n",
       "      <td>9</td>\n",
       "      <td>1</td>\n",
       "      <td>female</td>\n",
       "      <td>0.19</td>\n",
       "      <td>0.65</td>\n",
       "      <td>2</td>\n",
       "      <td>0</td>\n",
       "      <td>5</td>\n",
       "      <td>yes</td>\n",
       "      <td>no</td>\n",
       "      <td>no</td>\n",
       "      <td>no</td>\n",
       "      <td>no</td>\n",
       "    </tr>\n",
       "    <tr>\n",
       "      <th>9</th>\n",
       "      <td>10</td>\n",
       "      <td>1</td>\n",
       "      <td>male</td>\n",
       "      <td>0.19</td>\n",
       "      <td>0.15</td>\n",
       "      <td>1</td>\n",
       "      <td>0</td>\n",
       "      <td>0</td>\n",
       "      <td>yes</td>\n",
       "      <td>no</td>\n",
       "      <td>no</td>\n",
       "      <td>no</td>\n",
       "      <td>no</td>\n",
       "    </tr>\n",
       "  </tbody>\n",
       "</table>\n",
       "</div>"
      ],
      "text/plain": [
       "   Unnamed: 0  visits  gender   age  income  illness  reduced  health private  \\\n",
       "0           1       1  female  0.19    0.55        1        4       1     yes   \n",
       "1           2       1  female  0.19    0.45        1        2       1     yes   \n",
       "2           3       1    male  0.19    0.90        3        0       0      no   \n",
       "3           4       1    male  0.19    0.15        1        0       0      no   \n",
       "4           5       1    male  0.19    0.45        2        5       1      no   \n",
       "5           6       1  female  0.19    0.35        5        1       9      no   \n",
       "6           7       1  female  0.19    0.55        4        0       2      no   \n",
       "7           8       1  female  0.19    0.15        3        0       6      no   \n",
       "8           9       1  female  0.19    0.65        2        0       5     yes   \n",
       "9          10       1    male  0.19    0.15        1        0       0     yes   \n",
       "\n",
       "  freepoor freerepat nchronic lchronic  \n",
       "0       no        no       no       no  \n",
       "1       no        no       no       no  \n",
       "2       no        no       no       no  \n",
       "3       no        no       no       no  \n",
       "4       no        no      yes       no  \n",
       "5       no        no      yes       no  \n",
       "6       no        no       no       no  \n",
       "7       no        no       no       no  \n",
       "8       no        no       no       no  \n",
       "9       no        no       no       no  "
      ]
     },
     "execution_count": 7,
     "metadata": {},
     "output_type": "execute_result"
    }
   ],
   "source": [
    "dv.head(10)"
   ]
  },
  {
   "cell_type": "code",
   "execution_count": 8,
   "metadata": {
    "colab": {
     "base_uri": "https://localhost:8080/"
    },
    "id": "3xuVCAcLJ9QC",
    "outputId": "13ec5a16-bc35-47e3-e7d7-43cc4cc8cf0c"
   },
   "outputs": [
    {
     "name": "stdout",
     "output_type": "stream",
     "text": [
      "<class 'pandas.core.frame.DataFrame'>\n",
      "RangeIndex: 5190 entries, 0 to 5189\n",
      "Data columns (total 13 columns):\n",
      " #   Column      Non-Null Count  Dtype  \n",
      "---  ------      --------------  -----  \n",
      " 0   Unnamed: 0  5190 non-null   int64  \n",
      " 1   visits      5190 non-null   int64  \n",
      " 2   gender      5190 non-null   object \n",
      " 3   age         5190 non-null   float64\n",
      " 4   income      5190 non-null   float64\n",
      " 5   illness     5190 non-null   int64  \n",
      " 6   reduced     5190 non-null   int64  \n",
      " 7   health      5190 non-null   int64  \n",
      " 8   private     5190 non-null   object \n",
      " 9   freepoor    5190 non-null   object \n",
      " 10  freerepat   5190 non-null   object \n",
      " 11  nchronic    5190 non-null   object \n",
      " 12  lchronic    5190 non-null   object \n",
      "dtypes: float64(2), int64(5), object(6)\n",
      "memory usage: 527.2+ KB\n"
     ]
    }
   ],
   "source": [
    "dv.info()"
   ]
  },
  {
   "cell_type": "code",
   "execution_count": 9,
   "metadata": {
    "colab": {
     "base_uri": "https://localhost:8080/",
     "height": 300
    },
    "id": "UhG-nOZA6cCg",
    "outputId": "f8c8d3a9-05da-4399-b0fc-eb38869f9bc1"
   },
   "outputs": [
    {
     "data": {
      "text/html": [
       "<div>\n",
       "<style scoped>\n",
       "    .dataframe tbody tr th:only-of-type {\n",
       "        vertical-align: middle;\n",
       "    }\n",
       "\n",
       "    .dataframe tbody tr th {\n",
       "        vertical-align: top;\n",
       "    }\n",
       "\n",
       "    .dataframe thead th {\n",
       "        text-align: right;\n",
       "    }\n",
       "</style>\n",
       "<table border=\"1\" class=\"dataframe\">\n",
       "  <thead>\n",
       "    <tr style=\"text-align: right;\">\n",
       "      <th></th>\n",
       "      <th>Unnamed: 0</th>\n",
       "      <th>visits</th>\n",
       "      <th>age</th>\n",
       "      <th>income</th>\n",
       "      <th>illness</th>\n",
       "      <th>reduced</th>\n",
       "      <th>health</th>\n",
       "    </tr>\n",
       "  </thead>\n",
       "  <tbody>\n",
       "    <tr>\n",
       "      <th>count</th>\n",
       "      <td>5190.000000</td>\n",
       "      <td>5190.000000</td>\n",
       "      <td>5190.000000</td>\n",
       "      <td>5190.000000</td>\n",
       "      <td>5190.000000</td>\n",
       "      <td>5190.000000</td>\n",
       "      <td>5190.000000</td>\n",
       "    </tr>\n",
       "    <tr>\n",
       "      <th>mean</th>\n",
       "      <td>2595.500000</td>\n",
       "      <td>0.301734</td>\n",
       "      <td>0.406385</td>\n",
       "      <td>0.583160</td>\n",
       "      <td>1.431985</td>\n",
       "      <td>0.861850</td>\n",
       "      <td>1.217534</td>\n",
       "    </tr>\n",
       "    <tr>\n",
       "      <th>std</th>\n",
       "      <td>1498.368279</td>\n",
       "      <td>0.798134</td>\n",
       "      <td>0.204782</td>\n",
       "      <td>0.368907</td>\n",
       "      <td>1.384152</td>\n",
       "      <td>2.887628</td>\n",
       "      <td>2.124266</td>\n",
       "    </tr>\n",
       "    <tr>\n",
       "      <th>min</th>\n",
       "      <td>1.000000</td>\n",
       "      <td>0.000000</td>\n",
       "      <td>0.190000</td>\n",
       "      <td>0.000000</td>\n",
       "      <td>0.000000</td>\n",
       "      <td>0.000000</td>\n",
       "      <td>0.000000</td>\n",
       "    </tr>\n",
       "    <tr>\n",
       "      <th>25%</th>\n",
       "      <td>1298.250000</td>\n",
       "      <td>0.000000</td>\n",
       "      <td>0.220000</td>\n",
       "      <td>0.250000</td>\n",
       "      <td>0.000000</td>\n",
       "      <td>0.000000</td>\n",
       "      <td>0.000000</td>\n",
       "    </tr>\n",
       "    <tr>\n",
       "      <th>50%</th>\n",
       "      <td>2595.500000</td>\n",
       "      <td>0.000000</td>\n",
       "      <td>0.320000</td>\n",
       "      <td>0.550000</td>\n",
       "      <td>1.000000</td>\n",
       "      <td>0.000000</td>\n",
       "      <td>0.000000</td>\n",
       "    </tr>\n",
       "    <tr>\n",
       "      <th>75%</th>\n",
       "      <td>3892.750000</td>\n",
       "      <td>0.000000</td>\n",
       "      <td>0.620000</td>\n",
       "      <td>0.900000</td>\n",
       "      <td>2.000000</td>\n",
       "      <td>0.000000</td>\n",
       "      <td>2.000000</td>\n",
       "    </tr>\n",
       "    <tr>\n",
       "      <th>max</th>\n",
       "      <td>5190.000000</td>\n",
       "      <td>9.000000</td>\n",
       "      <td>0.720000</td>\n",
       "      <td>1.500000</td>\n",
       "      <td>5.000000</td>\n",
       "      <td>14.000000</td>\n",
       "      <td>12.000000</td>\n",
       "    </tr>\n",
       "  </tbody>\n",
       "</table>\n",
       "</div>"
      ],
      "text/plain": [
       "        Unnamed: 0       visits          age       income      illness  \\\n",
       "count  5190.000000  5190.000000  5190.000000  5190.000000  5190.000000   \n",
       "mean   2595.500000     0.301734     0.406385     0.583160     1.431985   \n",
       "std    1498.368279     0.798134     0.204782     0.368907     1.384152   \n",
       "min       1.000000     0.000000     0.190000     0.000000     0.000000   \n",
       "25%    1298.250000     0.000000     0.220000     0.250000     0.000000   \n",
       "50%    2595.500000     0.000000     0.320000     0.550000     1.000000   \n",
       "75%    3892.750000     0.000000     0.620000     0.900000     2.000000   \n",
       "max    5190.000000     9.000000     0.720000     1.500000     5.000000   \n",
       "\n",
       "           reduced       health  \n",
       "count  5190.000000  5190.000000  \n",
       "mean      0.861850     1.217534  \n",
       "std       2.887628     2.124266  \n",
       "min       0.000000     0.000000  \n",
       "25%       0.000000     0.000000  \n",
       "50%       0.000000     0.000000  \n",
       "75%       0.000000     2.000000  \n",
       "max      14.000000    12.000000  "
      ]
     },
     "execution_count": 9,
     "metadata": {},
     "output_type": "execute_result"
    }
   ],
   "source": [
    "dv.describe()"
   ]
  },
  {
   "cell_type": "code",
   "execution_count": 10,
   "metadata": {
    "colab": {
     "base_uri": "https://localhost:8080/"
    },
    "id": "qAtu3nzt7Twv",
    "outputId": "f8086bea-c29d-41f6-d29c-2bc9b3a3f1f3"
   },
   "outputs": [
    {
     "data": {
      "text/plain": [
       "1    1638\n",
       "0    1554\n",
       "2     946\n",
       "3     542\n",
       "4     274\n",
       "5     236\n",
       "Name: illness, dtype: int64"
      ]
     },
     "execution_count": 10,
     "metadata": {},
     "output_type": "execute_result"
    }
   ],
   "source": [
    "dv[\"illness\"].value_counts()"
   ]
  },
  {
   "cell_type": "code",
   "execution_count": 11,
   "metadata": {
    "colab": {
     "base_uri": "https://localhost:8080/"
    },
    "id": "AkJhDIjROI3k",
    "outputId": "4bd195b3-cea3-42a8-99b6-a3b4f58ecf40"
   },
   "outputs": [
    {
     "data": {
      "text/plain": [
       "female    2702\n",
       "male      2488\n",
       "Name: gender, dtype: int64"
      ]
     },
     "execution_count": 11,
     "metadata": {},
     "output_type": "execute_result"
    }
   ],
   "source": [
    "dv[\"gender\"].value_counts()"
   ]
  },
  {
   "cell_type": "code",
   "execution_count": 12,
   "metadata": {
    "colab": {
     "base_uri": "https://localhost:8080/",
     "height": 430
    },
    "id": "lqE-ebNuOpGz",
    "outputId": "daa404bd-b639-467b-da67-842a850ee1c2"
   },
   "outputs": [
    {
     "data": {
      "image/png": "[encoded data removed]",
      "text/plain": [
       "<Figure size 640x480 with 1 Axes>"
      ]
     },
     "metadata": {},
     "output_type": "display_data"
    }
   ],
   "source": [
    "y=list(dv.age)\n",
    "plt.boxplot(y)\n",
    "plt.show()"
   ]
  },
  {
   "cell_type": "code",
   "execution_count": 13,
   "metadata": {
    "colab": {
     "base_uri": "https://localhost:8080/",
     "height": 430
    },
    "id": "I8d-UTxFI4Tz",
    "outputId": "3ebc2e25-8e1a-4397-ddca-c2ec3ace78c3"
   },
   "outputs": [
    {
     "data": {
      "image/png": "[encoded data removed]",
      "text/plain": [
       "<Figure size 640x480 with 1 Axes>"
      ]
     },
     "metadata": {},
     "output_type": "display_data"
    }
   ],
   "source": [
    "y=list(dv.illness)\n",
    "plt.boxplot(y)\n",
    "plt.show()"
   ]
  },
  {
   "cell_type": "code",
   "execution_count": 14,
   "metadata": {
    "colab": {
     "base_uri": "https://localhost:8080/",
     "height": 952
    },
    "id": "LvDm2oomQH4O",
    "outputId": "78ab9fb1-2e77-4375-9d71-1bb318eec69b"
   },
   "outputs": [
    {
     "name": "stderr",
     "output_type": "stream",
     "text": [
      "C:\\Users\\eetha\\AppData\\Local\\Temp\\ipykernel_5380\\2946443849.py:1: FutureWarning: The default value of numeric_only in DataFrameGroupBy.mean is deprecated. In a future version, numeric_only will default to False. Either specify numeric_only or select only columns which should be valid for the function.\n",
      "  dv.groupby(['gender','health']).mean()\n"
     ]
    },
    {
     "data": {
      "text/html": [
       "<div>\n",
       "<style scoped>\n",
       "    .dataframe tbody tr th:only-of-type {\n",
       "        vertical-align: middle;\n",
       "    }\n",
       "\n",
       "    .dataframe tbody tr th {\n",
       "        vertical-align: top;\n",
       "    }\n",
       "\n",
       "    .dataframe thead th {\n",
       "        text-align: right;\n",
       "    }\n",
       "</style>\n",
       "<table border=\"1\" class=\"dataframe\">\n",
       "  <thead>\n",
       "    <tr style=\"text-align: right;\">\n",
       "      <th></th>\n",
       "      <th></th>\n",
       "      <th>Unnamed: 0</th>\n",
       "      <th>visits</th>\n",
       "      <th>age</th>\n",
       "      <th>income</th>\n",
       "      <th>illness</th>\n",
       "      <th>reduced</th>\n",
       "    </tr>\n",
       "    <tr>\n",
       "      <th>gender</th>\n",
       "      <th>health</th>\n",
       "      <th></th>\n",
       "      <th></th>\n",
       "      <th></th>\n",
       "      <th></th>\n",
       "      <th></th>\n",
       "      <th></th>\n",
       "    </tr>\n",
       "  </thead>\n",
       "  <tbody>\n",
       "    <tr>\n",
       "      <th rowspan=\"13\" valign=\"top\">female</th>\n",
       "      <th>0</th>\n",
       "      <td>2610.915309</td>\n",
       "      <td>0.252117</td>\n",
       "      <td>0.461967</td>\n",
       "      <td>0.498814</td>\n",
       "      <td>1.178502</td>\n",
       "      <td>0.393485</td>\n",
       "    </tr>\n",
       "    <tr>\n",
       "      <th>1</th>\n",
       "      <td>2165.281013</td>\n",
       "      <td>0.392405</td>\n",
       "      <td>0.474051</td>\n",
       "      <td>0.474810</td>\n",
       "      <td>1.840506</td>\n",
       "      <td>1.159494</td>\n",
       "    </tr>\n",
       "    <tr>\n",
       "      <th>2</th>\n",
       "      <td>2133.228464</td>\n",
       "      <td>0.483146</td>\n",
       "      <td>0.462135</td>\n",
       "      <td>0.476592</td>\n",
       "      <td>2.082397</td>\n",
       "      <td>1.340824</td>\n",
       "    </tr>\n",
       "    <tr>\n",
       "      <th>3</th>\n",
       "      <td>2053.283688</td>\n",
       "      <td>0.411348</td>\n",
       "      <td>0.465887</td>\n",
       "      <td>0.485816</td>\n",
       "      <td>2.503546</td>\n",
       "      <td>1.191489</td>\n",
       "    </tr>\n",
       "    <tr>\n",
       "      <th>4</th>\n",
       "      <td>2134.150000</td>\n",
       "      <td>0.630000</td>\n",
       "      <td>0.451600</td>\n",
       "      <td>0.472700</td>\n",
       "      <td>2.070000</td>\n",
       "      <td>2.270000</td>\n",
       "    </tr>\n",
       "    <tr>\n",
       "      <th>5</th>\n",
       "      <td>1903.635135</td>\n",
       "      <td>0.540541</td>\n",
       "      <td>0.425811</td>\n",
       "      <td>0.450946</td>\n",
       "      <td>2.500000</td>\n",
       "      <td>1.662162</td>\n",
       "    </tr>\n",
       "    <tr>\n",
       "      <th>6</th>\n",
       "      <td>1605.462687</td>\n",
       "      <td>0.611940</td>\n",
       "      <td>0.401642</td>\n",
       "      <td>0.471940</td>\n",
       "      <td>2.447761</td>\n",
       "      <td>2.313433</td>\n",
       "    </tr>\n",
       "    <tr>\n",
       "      <th>7</th>\n",
       "      <td>1881.538462</td>\n",
       "      <td>0.769231</td>\n",
       "      <td>0.494103</td>\n",
       "      <td>0.414872</td>\n",
       "      <td>2.794872</td>\n",
       "      <td>4.153846</td>\n",
       "    </tr>\n",
       "    <tr>\n",
       "      <th>8</th>\n",
       "      <td>1703.666667</td>\n",
       "      <td>0.619048</td>\n",
       "      <td>0.450952</td>\n",
       "      <td>0.440476</td>\n",
       "      <td>2.333333</td>\n",
       "      <td>3.476190</td>\n",
       "    </tr>\n",
       "    <tr>\n",
       "      <th>9</th>\n",
       "      <td>1534.272727</td>\n",
       "      <td>0.818182</td>\n",
       "      <td>0.470909</td>\n",
       "      <td>0.318636</td>\n",
       "      <td>3.500000</td>\n",
       "      <td>5.681818</td>\n",
       "    </tr>\n",
       "    <tr>\n",
       "      <th>10</th>\n",
       "      <td>1324.647059</td>\n",
       "      <td>1.294118</td>\n",
       "      <td>0.485882</td>\n",
       "      <td>0.382353</td>\n",
       "      <td>2.882353</td>\n",
       "      <td>5.529412</td>\n",
       "    </tr>\n",
       "    <tr>\n",
       "      <th>11</th>\n",
       "      <td>1632.333333</td>\n",
       "      <td>0.733333</td>\n",
       "      <td>0.461333</td>\n",
       "      <td>0.483333</td>\n",
       "      <td>2.933333</td>\n",
       "      <td>2.866667</td>\n",
       "    </tr>\n",
       "    <tr>\n",
       "      <th>12</th>\n",
       "      <td>1179.000000</td>\n",
       "      <td>1.222222</td>\n",
       "      <td>0.444444</td>\n",
       "      <td>0.413333</td>\n",
       "      <td>2.666667</td>\n",
       "      <td>5.111111</td>\n",
       "    </tr>\n",
       "    <tr>\n",
       "      <th rowspan=\"13\" valign=\"top\">male</th>\n",
       "      <th>0</th>\n",
       "      <td>3074.271630</td>\n",
       "      <td>0.144869</td>\n",
       "      <td>0.346626</td>\n",
       "      <td>0.716378</td>\n",
       "      <td>0.857143</td>\n",
       "      <td>0.246144</td>\n",
       "    </tr>\n",
       "    <tr>\n",
       "      <th>1</th>\n",
       "      <td>2667.997664</td>\n",
       "      <td>0.282710</td>\n",
       "      <td>0.338458</td>\n",
       "      <td>0.682220</td>\n",
       "      <td>1.408879</td>\n",
       "      <td>0.988318</td>\n",
       "    </tr>\n",
       "    <tr>\n",
       "      <th>2</th>\n",
       "      <td>2404.122905</td>\n",
       "      <td>0.229050</td>\n",
       "      <td>0.317989</td>\n",
       "      <td>0.612737</td>\n",
       "      <td>1.754190</td>\n",
       "      <td>1.446927</td>\n",
       "    </tr>\n",
       "    <tr>\n",
       "      <th>3</th>\n",
       "      <td>2538.515152</td>\n",
       "      <td>0.424242</td>\n",
       "      <td>0.341818</td>\n",
       "      <td>0.676970</td>\n",
       "      <td>2.083333</td>\n",
       "      <td>1.454545</td>\n",
       "    </tr>\n",
       "    <tr>\n",
       "      <th>4</th>\n",
       "      <td>2589.494253</td>\n",
       "      <td>0.425287</td>\n",
       "      <td>0.380000</td>\n",
       "      <td>0.641149</td>\n",
       "      <td>2.045977</td>\n",
       "      <td>1.241379</td>\n",
       "    </tr>\n",
       "    <tr>\n",
       "      <th>5</th>\n",
       "      <td>2528.034483</td>\n",
       "      <td>0.517241</td>\n",
       "      <td>0.385690</td>\n",
       "      <td>0.613103</td>\n",
       "      <td>2.327586</td>\n",
       "      <td>1.500000</td>\n",
       "    </tr>\n",
       "    <tr>\n",
       "      <th>6</th>\n",
       "      <td>1951.324324</td>\n",
       "      <td>0.648649</td>\n",
       "      <td>0.414595</td>\n",
       "      <td>0.530270</td>\n",
       "      <td>2.486486</td>\n",
       "      <td>4.432432</td>\n",
       "    </tr>\n",
       "    <tr>\n",
       "      <th>7</th>\n",
       "      <td>1570.636364</td>\n",
       "      <td>1.181818</td>\n",
       "      <td>0.403636</td>\n",
       "      <td>0.570455</td>\n",
       "      <td>2.545455</td>\n",
       "      <td>4.000000</td>\n",
       "    </tr>\n",
       "    <tr>\n",
       "      <th>8</th>\n",
       "      <td>2564.523810</td>\n",
       "      <td>0.333333</td>\n",
       "      <td>0.360476</td>\n",
       "      <td>0.515238</td>\n",
       "      <td>2.666667</td>\n",
       "      <td>2.142857</td>\n",
       "    </tr>\n",
       "    <tr>\n",
       "      <th>9</th>\n",
       "      <td>2479.500000</td>\n",
       "      <td>0.300000</td>\n",
       "      <td>0.264000</td>\n",
       "      <td>0.781000</td>\n",
       "      <td>2.900000</td>\n",
       "      <td>3.500000</td>\n",
       "    </tr>\n",
       "    <tr>\n",
       "      <th>10</th>\n",
       "      <td>2667.250000</td>\n",
       "      <td>2.500000</td>\n",
       "      <td>0.445000</td>\n",
       "      <td>0.437500</td>\n",
       "      <td>3.250000</td>\n",
       "      <td>5.000000</td>\n",
       "    </tr>\n",
       "    <tr>\n",
       "      <th>11</th>\n",
       "      <td>1559.777778</td>\n",
       "      <td>1.000000</td>\n",
       "      <td>0.388889</td>\n",
       "      <td>0.666667</td>\n",
       "      <td>3.111111</td>\n",
       "      <td>2.333333</td>\n",
       "    </tr>\n",
       "    <tr>\n",
       "      <th>12</th>\n",
       "      <td>1305.700000</td>\n",
       "      <td>0.800000</td>\n",
       "      <td>0.297000</td>\n",
       "      <td>0.641000</td>\n",
       "      <td>2.200000</td>\n",
       "      <td>2.800000</td>\n",
       "    </tr>\n",
       "  </tbody>\n",
       "</table>\n",
       "</div>"
      ],
      "text/plain": [
       "                Unnamed: 0    visits       age    income   illness   reduced\n",
       "gender health                                                               \n",
       "female 0       2610.915309  0.252117  0.461967  0.498814  1.178502  0.393485\n",
       "       1       2165.281013  0.392405  0.474051  0.474810  1.840506  1.159494\n",
       "       2       2133.228464  0.483146  0.462135  0.476592  2.082397  1.340824\n",
       "       3       2053.283688  0.411348  0.465887  0.485816  2.503546  1.191489\n",
       "       4       2134.150000  0.630000  0.451600  0.472700  2.070000  2.270000\n",
       "       5       1903.635135  0.540541  0.425811  0.450946  2.500000  1.662162\n",
       "       6       1605.462687  0.611940  0.401642  0.471940  2.447761  2.313433\n",
       "       7       1881.538462  0.769231  0.494103  0.414872  2.794872  4.153846\n",
       "       8       1703.666667  0.619048  0.450952  0.440476  2.333333  3.476190\n",
       "       9       1534.272727  0.818182  0.470909  0.318636  3.500000  5.681818\n",
       "       10      1324.647059  1.294118  0.485882  0.382353  2.882353  5.529412\n",
       "       11      1632.333333  0.733333  0.461333  0.483333  2.933333  2.866667\n",
       "       12      1179.000000  1.222222  0.444444  0.413333  2.666667  5.111111\n",
       "male   0       3074.271630  0.144869  0.346626  0.716378  0.857143  0.246144\n",
       "       1       2667.997664  0.282710  0.338458  0.682220  1.408879  0.988318\n",
       "       2       2404.122905  0.229050  0.317989  0.612737  1.754190  1.446927\n",
       "       3       2538.515152  0.424242  0.341818  0.676970  2.083333  1.454545\n",
       "       4       2589.494253  0.425287  0.380000  0.641149  2.045977  1.241379\n",
       "       5       2528.034483  0.517241  0.385690  0.613103  2.327586  1.500000\n",
       "       6       1951.324324  0.648649  0.414595  0.530270  2.486486  4.432432\n",
       "       7       1570.636364  1.181818  0.403636  0.570455  2.545455  4.000000\n",
       "       8       2564.523810  0.333333  0.360476  0.515238  2.666667  2.142857\n",
       "       9       2479.500000  0.300000  0.264000  0.781000  2.900000  3.500000\n",
       "       10      2667.250000  2.500000  0.445000  0.437500  3.250000  5.000000\n",
       "       11      1559.777778  1.000000  0.388889  0.666667  3.111111  2.333333\n",
       "       12      1305.700000  0.800000  0.297000  0.641000  2.200000  2.800000"
      ]
     },
     "execution_count": 14,
     "metadata": {},
     "output_type": "execute_result"
    }
   ],
   "source": [
    "dv.groupby(['gender','health']).mean()"
   ]
  },
  {
   "cell_type": "code",
   "execution_count": 15,
   "metadata": {
    "colab": {
     "base_uri": "https://localhost:8080/",
     "height": 1000
    },
    "id": "_Getml96JW7o",
    "outputId": "cf8bc7f0-a8b8-44f9-982d-ef341a0a08e9"
   },
   "outputs": [
    {
     "name": "stderr",
     "output_type": "stream",
     "text": [
      "C:\\Users\\eetha\\AppData\\Local\\Temp\\ipykernel_5380\\2580556723.py:1: FutureWarning: The default value of numeric_only in DataFrameGroupBy.mean is deprecated. In a future version, numeric_only will default to False. Either specify numeric_only or select only columns which should be valid for the function.\n",
      "  dv.groupby(['gender','reduced']).mean()\n"
     ]
    },
    {
     "data": {
      "text/html": [
       "<div>\n",
       "<style scoped>\n",
       "    .dataframe tbody tr th:only-of-type {\n",
       "        vertical-align: middle;\n",
       "    }\n",
       "\n",
       "    .dataframe tbody tr th {\n",
       "        vertical-align: top;\n",
       "    }\n",
       "\n",
       "    .dataframe thead th {\n",
       "        text-align: right;\n",
       "    }\n",
       "</style>\n",
       "<table border=\"1\" class=\"dataframe\">\n",
       "  <thead>\n",
       "    <tr style=\"text-align: right;\">\n",
       "      <th></th>\n",
       "      <th></th>\n",
       "      <th>Unnamed: 0</th>\n",
       "      <th>visits</th>\n",
       "      <th>age</th>\n",
       "      <th>income</th>\n",
       "      <th>illness</th>\n",
       "      <th>health</th>\n",
       "    </tr>\n",
       "    <tr>\n",
       "      <th>gender</th>\n",
       "      <th>reduced</th>\n",
       "      <th></th>\n",
       "      <th></th>\n",
       "      <th></th>\n",
       "      <th></th>\n",
       "      <th></th>\n",
       "      <th></th>\n",
       "    </tr>\n",
       "  </thead>\n",
       "  <tbody>\n",
       "    <tr>\n",
       "      <th rowspan=\"14\" valign=\"top\">female</th>\n",
       "      <th>0</th>\n",
       "      <td>2524.038512</td>\n",
       "      <td>0.229322</td>\n",
       "      <td>0.465755</td>\n",
       "      <td>0.482735</td>\n",
       "      <td>1.462144</td>\n",
       "      <td>1.115098</td>\n",
       "    </tr>\n",
       "    <tr>\n",
       "      <th>1</th>\n",
       "      <td>1985.768421</td>\n",
       "      <td>0.400000</td>\n",
       "      <td>0.325684</td>\n",
       "      <td>0.542105</td>\n",
       "      <td>2.242105</td>\n",
       "      <td>1.610526</td>\n",
       "    </tr>\n",
       "    <tr>\n",
       "      <th>2</th>\n",
       "      <td>1622.618182</td>\n",
       "      <td>0.672727</td>\n",
       "      <td>0.391455</td>\n",
       "      <td>0.560182</td>\n",
       "      <td>2.236364</td>\n",
       "      <td>1.781818</td>\n",
       "    </tr>\n",
       "    <tr>\n",
       "      <th>3</th>\n",
       "      <td>997.311111</td>\n",
       "      <td>1.333333</td>\n",
       "      <td>0.403111</td>\n",
       "      <td>0.516000</td>\n",
       "      <td>2.733333</td>\n",
       "      <td>1.733333</td>\n",
       "    </tr>\n",
       "    <tr>\n",
       "      <th>4</th>\n",
       "      <td>1237.740741</td>\n",
       "      <td>0.851852</td>\n",
       "      <td>0.458889</td>\n",
       "      <td>0.466667</td>\n",
       "      <td>2.222222</td>\n",
       "      <td>2.074074</td>\n",
       "    </tr>\n",
       "    <tr>\n",
       "      <th>5</th>\n",
       "      <td>1169.055556</td>\n",
       "      <td>1.444444</td>\n",
       "      <td>0.401667</td>\n",
       "      <td>0.614444</td>\n",
       "      <td>2.222222</td>\n",
       "      <td>2.500000</td>\n",
       "    </tr>\n",
       "    <tr>\n",
       "      <th>6</th>\n",
       "      <td>1382.545455</td>\n",
       "      <td>1.363636</td>\n",
       "      <td>0.426364</td>\n",
       "      <td>0.622727</td>\n",
       "      <td>2.363636</td>\n",
       "      <td>1.363636</td>\n",
       "    </tr>\n",
       "    <tr>\n",
       "      <th>7</th>\n",
       "      <td>1034.846154</td>\n",
       "      <td>1.384615</td>\n",
       "      <td>0.436154</td>\n",
       "      <td>0.473462</td>\n",
       "      <td>2.653846</td>\n",
       "      <td>2.230769</td>\n",
       "    </tr>\n",
       "    <tr>\n",
       "      <th>8</th>\n",
       "      <td>1883.090909</td>\n",
       "      <td>1.090909</td>\n",
       "      <td>0.471818</td>\n",
       "      <td>0.404545</td>\n",
       "      <td>2.181818</td>\n",
       "      <td>4.000000</td>\n",
       "    </tr>\n",
       "    <tr>\n",
       "      <th>9</th>\n",
       "      <td>1349.000000</td>\n",
       "      <td>0.500000</td>\n",
       "      <td>0.570000</td>\n",
       "      <td>0.825000</td>\n",
       "      <td>3.000000</td>\n",
       "      <td>1.000000</td>\n",
       "    </tr>\n",
       "    <tr>\n",
       "      <th>10</th>\n",
       "      <td>1099.428571</td>\n",
       "      <td>2.142857</td>\n",
       "      <td>0.512857</td>\n",
       "      <td>0.421429</td>\n",
       "      <td>2.571429</td>\n",
       "      <td>2.000000</td>\n",
       "    </tr>\n",
       "    <tr>\n",
       "      <th>12</th>\n",
       "      <td>1661.000000</td>\n",
       "      <td>2.000000</td>\n",
       "      <td>0.720000</td>\n",
       "      <td>0.250000</td>\n",
       "      <td>3.500000</td>\n",
       "      <td>5.500000</td>\n",
       "    </tr>\n",
       "    <tr>\n",
       "      <th>13</th>\n",
       "      <td>906.000000</td>\n",
       "      <td>4.000000</td>\n",
       "      <td>0.720000</td>\n",
       "      <td>0.300000</td>\n",
       "      <td>4.500000</td>\n",
       "      <td>3.500000</td>\n",
       "    </tr>\n",
       "    <tr>\n",
       "      <th>14</th>\n",
       "      <td>1392.112069</td>\n",
       "      <td>1.543103</td>\n",
       "      <td>0.551724</td>\n",
       "      <td>0.427586</td>\n",
       "      <td>2.534483</td>\n",
       "      <td>4.112069</td>\n",
       "    </tr>\n",
       "    <tr>\n",
       "      <th rowspan=\"15\" valign=\"top\">male</th>\n",
       "      <th>0</th>\n",
       "      <td>3008.911019</td>\n",
       "      <td>0.136007</td>\n",
       "      <td>0.344703</td>\n",
       "      <td>0.694398</td>\n",
       "      <td>1.099585</td>\n",
       "      <td>0.924850</td>\n",
       "    </tr>\n",
       "    <tr>\n",
       "      <th>1</th>\n",
       "      <td>2485.158537</td>\n",
       "      <td>0.304878</td>\n",
       "      <td>0.286220</td>\n",
       "      <td>0.676341</td>\n",
       "      <td>1.743902</td>\n",
       "      <td>1.256098</td>\n",
       "    </tr>\n",
       "    <tr>\n",
       "      <th>2</th>\n",
       "      <td>2007.679245</td>\n",
       "      <td>0.471698</td>\n",
       "      <td>0.343585</td>\n",
       "      <td>0.653019</td>\n",
       "      <td>2.358491</td>\n",
       "      <td>1.547170</td>\n",
       "    </tr>\n",
       "    <tr>\n",
       "      <th>3</th>\n",
       "      <td>1909.068966</td>\n",
       "      <td>0.724138</td>\n",
       "      <td>0.334138</td>\n",
       "      <td>0.741379</td>\n",
       "      <td>2.137931</td>\n",
       "      <td>1.689655</td>\n",
       "    </tr>\n",
       "    <tr>\n",
       "      <th>4</th>\n",
       "      <td>1424.000000</td>\n",
       "      <td>0.722222</td>\n",
       "      <td>0.309444</td>\n",
       "      <td>0.869444</td>\n",
       "      <td>2.055556</td>\n",
       "      <td>2.000000</td>\n",
       "    </tr>\n",
       "    <tr>\n",
       "      <th>5</th>\n",
       "      <td>1437.272727</td>\n",
       "      <td>1.136364</td>\n",
       "      <td>0.331818</td>\n",
       "      <td>0.570455</td>\n",
       "      <td>2.272727</td>\n",
       "      <td>2.818182</td>\n",
       "    </tr>\n",
       "    <tr>\n",
       "      <th>6</th>\n",
       "      <td>562.000000</td>\n",
       "      <td>0.833333</td>\n",
       "      <td>0.340000</td>\n",
       "      <td>0.591667</td>\n",
       "      <td>2.500000</td>\n",
       "      <td>2.000000</td>\n",
       "    </tr>\n",
       "    <tr>\n",
       "      <th>7</th>\n",
       "      <td>1716.750000</td>\n",
       "      <td>0.750000</td>\n",
       "      <td>0.314167</td>\n",
       "      <td>0.655000</td>\n",
       "      <td>2.583333</td>\n",
       "      <td>4.333333</td>\n",
       "    </tr>\n",
       "    <tr>\n",
       "      <th>8</th>\n",
       "      <td>680.666667</td>\n",
       "      <td>1.333333</td>\n",
       "      <td>0.365000</td>\n",
       "      <td>0.833333</td>\n",
       "      <td>2.666667</td>\n",
       "      <td>2.000000</td>\n",
       "    </tr>\n",
       "    <tr>\n",
       "      <th>9</th>\n",
       "      <td>1375.400000</td>\n",
       "      <td>2.200000</td>\n",
       "      <td>0.310000</td>\n",
       "      <td>0.392000</td>\n",
       "      <td>2.400000</td>\n",
       "      <td>2.000000</td>\n",
       "    </tr>\n",
       "    <tr>\n",
       "      <th>10</th>\n",
       "      <td>1543.200000</td>\n",
       "      <td>1.800000</td>\n",
       "      <td>0.480000</td>\n",
       "      <td>0.590000</td>\n",
       "      <td>2.600000</td>\n",
       "      <td>4.600000</td>\n",
       "    </tr>\n",
       "    <tr>\n",
       "      <th>11</th>\n",
       "      <td>355.500000</td>\n",
       "      <td>5.000000</td>\n",
       "      <td>0.320000</td>\n",
       "      <td>1.000000</td>\n",
       "      <td>1.500000</td>\n",
       "      <td>0.500000</td>\n",
       "    </tr>\n",
       "    <tr>\n",
       "      <th>12</th>\n",
       "      <td>781.500000</td>\n",
       "      <td>2.000000</td>\n",
       "      <td>0.370000</td>\n",
       "      <td>0.515000</td>\n",
       "      <td>1.500000</td>\n",
       "      <td>1.000000</td>\n",
       "    </tr>\n",
       "    <tr>\n",
       "      <th>13</th>\n",
       "      <td>508.666667</td>\n",
       "      <td>4.000000</td>\n",
       "      <td>0.510000</td>\n",
       "      <td>0.350000</td>\n",
       "      <td>3.333333</td>\n",
       "      <td>2.333333</td>\n",
       "    </tr>\n",
       "    <tr>\n",
       "      <th>14</th>\n",
       "      <td>1236.069444</td>\n",
       "      <td>1.555556</td>\n",
       "      <td>0.476806</td>\n",
       "      <td>0.598611</td>\n",
       "      <td>2.375000</td>\n",
       "      <td>3.527778</td>\n",
       "    </tr>\n",
       "  </tbody>\n",
       "</table>\n",
       "</div>"
      ],
      "text/plain": [
       "                 Unnamed: 0    visits       age    income   illness    health\n",
       "gender reduced                                                               \n",
       "female 0        2524.038512  0.229322  0.465755  0.482735  1.462144  1.115098\n",
       "       1        1985.768421  0.400000  0.325684  0.542105  2.242105  1.610526\n",
       "       2        1622.618182  0.672727  0.391455  0.560182  2.236364  1.781818\n",
       "       3         997.311111  1.333333  0.403111  0.516000  2.733333  1.733333\n",
       "       4        1237.740741  0.851852  0.458889  0.466667  2.222222  2.074074\n",
       "       5        1169.055556  1.444444  0.401667  0.614444  2.222222  2.500000\n",
       "       6        1382.545455  1.363636  0.426364  0.622727  2.363636  1.363636\n",
       "       7        1034.846154  1.384615  0.436154  0.473462  2.653846  2.230769\n",
       "       8        1883.090909  1.090909  0.471818  0.404545  2.181818  4.000000\n",
       "       9        1349.000000  0.500000  0.570000  0.825000  3.000000  1.000000\n",
       "       10       1099.428571  2.142857  0.512857  0.421429  2.571429  2.000000\n",
       "       12       1661.000000  2.000000  0.720000  0.250000  3.500000  5.500000\n",
       "       13        906.000000  4.000000  0.720000  0.300000  4.500000  3.500000\n",
       "       14       1392.112069  1.543103  0.551724  0.427586  2.534483  4.112069\n",
       "male   0        3008.911019  0.136007  0.344703  0.694398  1.099585  0.924850\n",
       "       1        2485.158537  0.304878  0.286220  0.676341  1.743902  1.256098\n",
       "       2        2007.679245  0.471698  0.343585  0.653019  2.358491  1.547170\n",
       "       3        1909.068966  0.724138  0.334138  0.741379  2.137931  1.689655\n",
       "       4        1424.000000  0.722222  0.309444  0.869444  2.055556  2.000000\n",
       "       5        1437.272727  1.136364  0.331818  0.570455  2.272727  2.818182\n",
       "       6         562.000000  0.833333  0.340000  0.591667  2.500000  2.000000\n",
       "       7        1716.750000  0.750000  0.314167  0.655000  2.583333  4.333333\n",
       "       8         680.666667  1.333333  0.365000  0.833333  2.666667  2.000000\n",
       "       9        1375.400000  2.200000  0.310000  0.392000  2.400000  2.000000\n",
       "       10       1543.200000  1.800000  0.480000  0.590000  2.600000  4.600000\n",
       "       11        355.500000  5.000000  0.320000  1.000000  1.500000  0.500000\n",
       "       12        781.500000  2.000000  0.370000  0.515000  1.500000  1.000000\n",
       "       13        508.666667  4.000000  0.510000  0.350000  3.333333  2.333333\n",
       "       14       1236.069444  1.555556  0.476806  0.598611  2.375000  3.527778"
      ]
     },
     "execution_count": 15,
     "metadata": {},
     "output_type": "execute_result"
    }
   ],
   "source": [
    "dv.groupby(['gender','reduced']).mean()"
   ]
  },
  {
   "cell_type": "code",
   "execution_count": 16,
   "metadata": {
    "colab": {
     "base_uri": "https://localhost:8080/",
     "height": 526
    },
    "id": "GufH4JV0RMwl",
    "outputId": "ad1b856f-18a0-4d93-a1a8-e21d3230adfd"
   },
   "outputs": [
    {
     "data": {
      "text/plain": [
       "<Axes: >"
      ]
     },
     "execution_count": 16,
     "metadata": {},
     "output_type": "execute_result"
    },
    {
     "data": {
      "image/png": "[encoded data removed]",
      "text/plain": [
       "<Figure size 640x480 with 1 Axes>"
      ]
     },
     "metadata": {},
     "output_type": "display_data"
    }
   ],
   "source": [
    "snb.heatmap(dv.isnull(),cbar=False,cmap='cividis')"
   ]
  },
  {
   "cell_type": "code",
   "execution_count": 17,
   "metadata": {
    "colab": {
     "base_uri": "https://localhost:8080/",
     "height": 757
    },
    "id": "nQfQ4qSx9gnI",
    "outputId": "c0b312a3-b5cd-43bc-d0ef-cb07307746ab"
   },
   "outputs": [
    {
     "name": "stderr",
     "output_type": "stream",
     "text": [
      "C:\\Users\\eetha\\AppData\\Local\\Temp\\ipykernel_5380\\517955794.py:2: FutureWarning: The default value of numeric_only in DataFrame.corr is deprecated. In a future version, it will default to False. Select only valid columns or specify the value of numeric_only to silence this warning.\n",
      "  snb.heatmap(dv.corr(),cbar=True,annot=True,cmap='Greens')\n"
     ]
    },
    {
     "data": {
      "text/plain": [
       "<Axes: >"
      ]
     },
     "execution_count": 17,
     "metadata": {},
     "output_type": "execute_result"
    },
    {
     "data": {
      "image/png": "[encoded data removed]",
      "text/plain": [
       "<Figure size 800x800 with 2 Axes>"
      ]
     },
     "metadata": {},
     "output_type": "display_data"
    }
   ],
   "source": [
    "plt.figure(figsize=(8,8))\n",
    "snb.heatmap(dv.corr(),cbar=True,annot=True,cmap='Greens')"
   ]
  },
  {
   "cell_type": "code",
   "execution_count": 18,
   "metadata": {
    "colab": {
     "base_uri": "https://localhost:8080/",
     "height": 560
    },
    "id": "9R2qzv9BKF1R",
    "outputId": "22daa202-e65d-4d41-ac43-b875b752acf0"
   },
   "outputs": [
    {
     "data": {
      "text/plain": [
       "Text(0, 0.5, 'illness')"
      ]
     },
     "execution_count": 18,
     "metadata": {},
     "output_type": "execute_result"
    },
    {
     "data": {
      "image/png": "[encoded data removed]",
      "text/plain": [
       "<Figure size 600x600 with 1 Axes>"
      ]
     },
     "metadata": {},
     "output_type": "display_data"
    }
   ],
   "source": [
    "plt.figure(figsize=(6,6))\n",
    "plt.scatter(x='income',y='visits',data=dv)\n",
    "plt.xlabel('age')\n",
    "plt.ylabel('illness')"
   ]
  },
  {
   "cell_type": "code",
   "execution_count": 19,
   "metadata": {
    "colab": {
     "base_uri": "https://localhost:8080/",
     "height": 467
    },
    "id": "HFMJAlXVLFYg",
    "outputId": "2e2ec115-6554-4e4d-b849-ba8b6f1739e5"
   },
   "outputs": [
    {
     "data": {
      "text/plain": [
       "<Axes: xlabel='gender', ylabel='Count'>"
      ]
     },
     "execution_count": 19,
     "metadata": {},
     "output_type": "execute_result"
    },
    {
     "data": {
      "image/png": "[encoded data removed]",
      "text/plain": [
       "<Figure size 640x480 with 1 Axes>"
      ]
     },
     "metadata": {},
     "output_type": "display_data"
    }
   ],
   "source": [
    "snb.histplot(dv.gender,bins=4)"
   ]
  },
  {
   "cell_type": "code",
   "execution_count": 20,
   "metadata": {
    "colab": {
     "base_uri": "https://localhost:8080/",
     "height": 467
    },
    "id": "BIZbGhI1LmD-",
    "outputId": "7fc97614-c225-4b06-87dd-6a08f9b8bf4c"
   },
   "outputs": [
    {
     "data": {
      "text/plain": [
       "<Axes: xlabel='nchronic', ylabel='Count'>"
      ]
     },
     "execution_count": 20,
     "metadata": {},
     "output_type": "execute_result"
    },
    {
     "data": {
      "image/png": "[encoded data removed]",
      "text/plain": [
       "<Figure size 640x480 with 1 Axes>"
      ]
     },
     "metadata": {},
     "output_type": "display_data"
    }
   ],
   "source": [
    "snb.histplot(dv.nchronic,bins=2)\n"
   ]
  },
  {
   "cell_type": "code",
   "execution_count": 21,
   "metadata": {
    "colab": {
     "base_uri": "https://localhost:8080/",
     "height": 467
    },
    "id": "gFpmr3ATMeu8",
    "outputId": "81f40c27-eebf-4d5a-fdda-ec7598e89787"
   },
   "outputs": [
    {
     "data": {
      "text/plain": [
       "<Axes: xlabel='lchronic', ylabel='Count'>"
      ]
     },
     "execution_count": 21,
     "metadata": {},
     "output_type": "execute_result"
    },
    {
     "data": {
      "image/png": "[encoded data removed]",
      "text/plain": [
       "<Figure size 640x480 with 1 Axes>"
      ]
     },
     "metadata": {},
     "output_type": "display_data"
    }
   ],
   "source": [
    "snb.histplot(dv.lchronic,bins=6)\n"
   ]
  },
  {
   "cell_type": "code",
   "execution_count": 22,
   "metadata": {
    "colab": {
     "base_uri": "https://localhost:8080/",
     "height": 521
    },
    "id": "UH2RpsFUM0KF",
    "outputId": "50088ecf-8298-4be7-b5f7-b4de630aeb9b"
   },
   "outputs": [
    {
     "data": {
      "image/png": "[encoded data removed]",
      "text/plain": [
       "<Figure size 600x600 with 1 Axes>"
      ]
     },
     "metadata": {},
     "output_type": "display_data"
    }
   ],
   "source": [
    "label=['yes','no']\n",
    "Y=dv[dv['private']=='yes']\n",
    "N=dv[dv['private']=='no']\n",
    "x = [Y.shape[0],N.shape[0]]\n",
    "plt.figure(figsize=(6,6))\n",
    "plt.pie(x, labels=label,autopct='%1.2f%%')\n",
    "plt.title(\"% of people having private health Insurance\")\n",
    "plt.show()"
   ]
  },
  {
   "cell_type": "code",
   "execution_count": 23,
   "metadata": {
    "colab": {
     "base_uri": "https://localhost:8080/",
     "height": 444
    },
    "id": "C8JtctsoNWl9",
    "outputId": "3299ff9a-5430-456b-84c2-6adc8ece41be"
   },
   "outputs": [
    {
     "data": {
      "image/png": "[encoded data removed]",
      "text/plain": [
       "<Figure size 500x500 with 1 Axes>"
      ]
     },
     "metadata": {},
     "output_type": "display_data"
    }
   ],
   "source": [
    "Y=dv[dv['freepoor']=='yes']\n",
    "N=dv[dv['freepoor']=='no']\n",
    "x = [Y.shape[0],N.shape[0]]\n",
    "plt.figure(figsize=(5,5))\n",
    "plt.pie(x, labels=label,autopct='%1.2f%%')\n",
    "plt.title(\"% of people getting govt health Insurance due to low income \")\n",
    "plt.show()"
   ]
  },
  {
   "cell_type": "code",
   "execution_count": 24,
   "metadata": {
    "colab": {
     "base_uri": "https://localhost:8080/",
     "height": 444
    },
    "id": "HzkSCMZAOk8H",
    "outputId": "79d2f243-1366-42a1-a560-7bdf6257528b"
   },
   "outputs": [
    {
     "data": {
      "image/png": "[encoded data removed]",
      "text/plain": [
       "<Figure size 500x500 with 1 Axes>"
      ]
     },
     "metadata": {},
     "output_type": "display_data"
    }
   ],
   "source": [
    "Y=dv[dv['freerepat']=='yes']\n",
    "N = dv[dv['freerepat']=='no' ]\n",
    "x = [Y.shape[0], N.shape[0]]\n",
    "plt.figure(figsize =(5,5))\n",
    "plt.pie(x, labels=label,autopct='%1.2f%%')\n",
    "plt.title(\"% of people getting govt health Insurance due to old age, disability or veteran status \")\n",
    "plt.show()"
   ]
  },
  {
   "cell_type": "code",
   "execution_count": 25,
   "metadata": {
    "colab": {
     "base_uri": "https://localhost:8080/",
     "height": 472
    },
    "id": "l7F5277gPOEM",
    "outputId": "ceb0d726-116b-437b-9da5-38f40783523f"
   },
   "outputs": [
    {
     "data": {
      "image/png": "[encoded data removed]",
      "text/plain": [
       "<Figure size 640x480 with 1 Axes>"
      ]
     },
     "metadata": {},
     "output_type": "display_data"
    }
   ],
   "source": [
    "db=dv.groupby('illness')['age'].sum().to_frame().reset_index()\n",
    "plt.barh(db['illness'],db['age']/10,color=['b'])\n",
    "plt.title('Age v/s Illness')\n",
    "plt.xlabel('age')\n",
    "plt.ylabel('illness')\n",
    "plt.show()"
   ]
  },
  {
   "cell_type": "code",
   "execution_count": 26,
   "metadata": {
    "colab": {
     "base_uri": "https://localhost:8080/",
     "height": 428
    },
    "id": "T_B1J3EYQd8K",
    "outputId": "30176bbe-94c4-4065-a26c-a57e059e2f75"
   },
   "outputs": [
    {
     "data": {
      "image/png": "[encoded data removed]",
      "text/plain": [
       "<Figure size 640x480 with 1 Axes>"
      ]
     },
     "metadata": {},
     "output_type": "display_data"
    }
   ],
   "source": [
    "db=dv.groupby('illness')['visits'].sum().to_frame().reset_index()\n",
    "illness = db[\"illness\"]\n",
    "visits = db[\"visits\"]\n",
    "colors = [\"#ff7f0e\",\"#1f77b4\",\"#800000\", \"#00EEEE\", \"#00FFF6\",\"#B2BEB5\" ]\n",
    "plt.pie(visits, labels=illness, colors=colors,autopct='%1.2f%%')\n",
    "plt.title(\"% of no.of visits to the hospital due to illness\")\n",
    "plt.show()"
   ]
  },
  {
   "cell_type": "code",
   "execution_count": 27,
   "metadata": {
    "colab": {
     "base_uri": "https://localhost:8080/",
     "height": 1000
    },
    "id": "0fGRdFkoRwnA",
    "outputId": "fbb0c2de-64af-427c-b9fd-05eb4cee63b4"
   },
   "outputs": [
    {
     "name": "stderr",
     "output_type": "stream",
     "text": [
      "C:\\Users\\eetha\\AppData\\Local\\Temp\\ipykernel_5380\\1181731124.py:1: FutureWarning: The default value of numeric_only in DataFrameGroupBy.mean is deprecated. In a future version, numeric_only will default to False. Either specify numeric_only or select only columns which should be valid for the function.\n",
      "  dv.groupby(['illness','visits']).mean()\n"
     ]
    },
    {
     "data": {
      "text/html": [
       "<div>\n",
       "<style scoped>\n",
       "    .dataframe tbody tr th:only-of-type {\n",
       "        vertical-align: middle;\n",
       "    }\n",
       "\n",
       "    .dataframe tbody tr th {\n",
       "        vertical-align: top;\n",
       "    }\n",
       "\n",
       "    .dataframe thead th {\n",
       "        text-align: right;\n",
       "    }\n",
       "</style>\n",
       "<table border=\"1\" class=\"dataframe\">\n",
       "  <thead>\n",
       "    <tr style=\"text-align: right;\">\n",
       "      <th></th>\n",
       "      <th></th>\n",
       "      <th>Unnamed: 0</th>\n",
       "      <th>age</th>\n",
       "      <th>income</th>\n",
       "      <th>reduced</th>\n",
       "      <th>health</th>\n",
       "    </tr>\n",
       "    <tr>\n",
       "      <th>illness</th>\n",
       "      <th>visits</th>\n",
       "      <th></th>\n",
       "      <th></th>\n",
       "      <th></th>\n",
       "      <th></th>\n",
       "      <th></th>\n",
       "    </tr>\n",
       "  </thead>\n",
       "  <tbody>\n",
       "    <tr>\n",
       "      <th rowspan=\"5\" valign=\"top\">0</th>\n",
       "      <th>0</th>\n",
       "      <td>3409.038647</td>\n",
       "      <td>0.368620</td>\n",
       "      <td>0.642443</td>\n",
       "      <td>0.033816</td>\n",
       "      <td>0.410628</td>\n",
       "    </tr>\n",
       "    <tr>\n",
       "      <th>1</th>\n",
       "      <td>576.791209</td>\n",
       "      <td>0.457033</td>\n",
       "      <td>0.601209</td>\n",
       "      <td>0.010989</td>\n",
       "      <td>0.670330</td>\n",
       "    </tr>\n",
       "    <tr>\n",
       "      <th>2</th>\n",
       "      <td>703.000000</td>\n",
       "      <td>0.532500</td>\n",
       "      <td>0.363333</td>\n",
       "      <td>2.416667</td>\n",
       "      <td>0.583333</td>\n",
       "    </tr>\n",
       "    <tr>\n",
       "      <th>3</th>\n",
       "      <td>283.000000</td>\n",
       "      <td>0.220000</td>\n",
       "      <td>0.900000</td>\n",
       "      <td>0.000000</td>\n",
       "      <td>0.000000</td>\n",
       "    </tr>\n",
       "    <tr>\n",
       "      <th>4</th>\n",
       "      <td>1023.000000</td>\n",
       "      <td>0.720000</td>\n",
       "      <td>0.250000</td>\n",
       "      <td>0.000000</td>\n",
       "      <td>4.000000</td>\n",
       "    </tr>\n",
       "    <tr>\n",
       "      <th rowspan=\"9\" valign=\"top\">1</th>\n",
       "      <th>0</th>\n",
       "      <td>3126.157175</td>\n",
       "      <td>0.369932</td>\n",
       "      <td>0.611162</td>\n",
       "      <td>0.472285</td>\n",
       "      <td>0.850418</td>\n",
       "    </tr>\n",
       "    <tr>\n",
       "      <th>1</th>\n",
       "      <td>476.344130</td>\n",
       "      <td>0.440121</td>\n",
       "      <td>0.566316</td>\n",
       "      <td>2.218623</td>\n",
       "      <td>1.323887</td>\n",
       "    </tr>\n",
       "    <tr>\n",
       "      <th>2</th>\n",
       "      <td>436.200000</td>\n",
       "      <td>0.406750</td>\n",
       "      <td>0.588750</td>\n",
       "      <td>2.125000</td>\n",
       "      <td>2.050000</td>\n",
       "    </tr>\n",
       "    <tr>\n",
       "      <th>3</th>\n",
       "      <td>339.666667</td>\n",
       "      <td>0.335556</td>\n",
       "      <td>0.390000</td>\n",
       "      <td>4.444444</td>\n",
       "      <td>2.555556</td>\n",
       "    </tr>\n",
       "    <tr>\n",
       "      <th>4</th>\n",
       "      <td>282.700000</td>\n",
       "      <td>0.274000</td>\n",
       "      <td>0.651000</td>\n",
       "      <td>8.600000</td>\n",
       "      <td>2.100000</td>\n",
       "    </tr>\n",
       "    <tr>\n",
       "      <th>5</th>\n",
       "      <td>393.285714</td>\n",
       "      <td>0.372857</td>\n",
       "      <td>0.692857</td>\n",
       "      <td>9.714286</td>\n",
       "      <td>2.142857</td>\n",
       "    </tr>\n",
       "    <tr>\n",
       "      <th>6</th>\n",
       "      <td>757.333333</td>\n",
       "      <td>0.653333</td>\n",
       "      <td>0.316667</td>\n",
       "      <td>9.666667</td>\n",
       "      <td>5.333333</td>\n",
       "    </tr>\n",
       "    <tr>\n",
       "      <th>7</th>\n",
       "      <td>405.000000</td>\n",
       "      <td>0.386667</td>\n",
       "      <td>0.416667</td>\n",
       "      <td>10.333333</td>\n",
       "      <td>1.333333</td>\n",
       "    </tr>\n",
       "    <tr>\n",
       "      <th>8</th>\n",
       "      <td>614.500000</td>\n",
       "      <td>0.595000</td>\n",
       "      <td>0.755000</td>\n",
       "      <td>11.500000</td>\n",
       "      <td>2.500000</td>\n",
       "    </tr>\n",
       "    <tr>\n",
       "      <th rowspan=\"9\" valign=\"top\">2</th>\n",
       "      <th>0</th>\n",
       "      <td>2894.434593</td>\n",
       "      <td>0.412515</td>\n",
       "      <td>0.574099</td>\n",
       "      <td>0.534884</td>\n",
       "      <td>1.449128</td>\n",
       "    </tr>\n",
       "    <tr>\n",
       "      <th>1</th>\n",
       "      <td>469.452128</td>\n",
       "      <td>0.434202</td>\n",
       "      <td>0.560798</td>\n",
       "      <td>1.739362</td>\n",
       "      <td>1.851064</td>\n",
       "    </tr>\n",
       "    <tr>\n",
       "      <th>2</th>\n",
       "      <td>454.760000</td>\n",
       "      <td>0.422400</td>\n",
       "      <td>0.481400</td>\n",
       "      <td>2.720000</td>\n",
       "      <td>1.980000</td>\n",
       "    </tr>\n",
       "    <tr>\n",
       "      <th>3</th>\n",
       "      <td>553.750000</td>\n",
       "      <td>0.470000</td>\n",
       "      <td>0.706250</td>\n",
       "      <td>4.750000</td>\n",
       "      <td>2.750000</td>\n",
       "    </tr>\n",
       "    <tr>\n",
       "      <th>4</th>\n",
       "      <td>529.750000</td>\n",
       "      <td>0.512500</td>\n",
       "      <td>0.350000</td>\n",
       "      <td>10.500000</td>\n",
       "      <td>5.000000</td>\n",
       "    </tr>\n",
       "    <tr>\n",
       "      <th>5</th>\n",
       "      <td>532.000000</td>\n",
       "      <td>0.520000</td>\n",
       "      <td>1.300000</td>\n",
       "      <td>3.000000</td>\n",
       "      <td>0.000000</td>\n",
       "    </tr>\n",
       "    <tr>\n",
       "      <th>6</th>\n",
       "      <td>475.500000</td>\n",
       "      <td>0.445000</td>\n",
       "      <td>0.775000</td>\n",
       "      <td>12.500000</td>\n",
       "      <td>2.000000</td>\n",
       "    </tr>\n",
       "    <tr>\n",
       "      <th>7</th>\n",
       "      <td>648.333333</td>\n",
       "      <td>0.553333</td>\n",
       "      <td>0.383333</td>\n",
       "      <td>7.333333</td>\n",
       "      <td>1.666667</td>\n",
       "    </tr>\n",
       "    <tr>\n",
       "      <th>8</th>\n",
       "      <td>395.500000</td>\n",
       "      <td>0.430000</td>\n",
       "      <td>0.250000</td>\n",
       "      <td>10.500000</td>\n",
       "      <td>2.500000</td>\n",
       "    </tr>\n",
       "    <tr>\n",
       "      <th rowspan=\"8\" valign=\"top\">3</th>\n",
       "      <th>0</th>\n",
       "      <td>2727.390957</td>\n",
       "      <td>0.424628</td>\n",
       "      <td>0.525984</td>\n",
       "      <td>0.843085</td>\n",
       "      <td>1.718085</td>\n",
       "    </tr>\n",
       "    <tr>\n",
       "      <th>1</th>\n",
       "      <td>588.054688</td>\n",
       "      <td>0.527500</td>\n",
       "      <td>0.465234</td>\n",
       "      <td>1.937500</td>\n",
       "      <td>1.875000</td>\n",
       "    </tr>\n",
       "    <tr>\n",
       "      <th>2</th>\n",
       "      <td>490.769231</td>\n",
       "      <td>0.449231</td>\n",
       "      <td>0.444615</td>\n",
       "      <td>4.000000</td>\n",
       "      <td>2.000000</td>\n",
       "    </tr>\n",
       "    <tr>\n",
       "      <th>3</th>\n",
       "      <td>480.500000</td>\n",
       "      <td>0.436667</td>\n",
       "      <td>0.516667</td>\n",
       "      <td>4.333333</td>\n",
       "      <td>5.333333</td>\n",
       "    </tr>\n",
       "    <tr>\n",
       "      <th>4</th>\n",
       "      <td>393.666667</td>\n",
       "      <td>0.376667</td>\n",
       "      <td>0.133333</td>\n",
       "      <td>1.333333</td>\n",
       "      <td>3.000000</td>\n",
       "    </tr>\n",
       "    <tr>\n",
       "      <th>5</th>\n",
       "      <td>198.000000</td>\n",
       "      <td>0.220000</td>\n",
       "      <td>0.450000</td>\n",
       "      <td>5.000000</td>\n",
       "      <td>10.000000</td>\n",
       "    </tr>\n",
       "    <tr>\n",
       "      <th>6</th>\n",
       "      <td>868.000000</td>\n",
       "      <td>0.720000</td>\n",
       "      <td>0.250000</td>\n",
       "      <td>14.000000</td>\n",
       "      <td>2.000000</td>\n",
       "    </tr>\n",
       "    <tr>\n",
       "      <th>7</th>\n",
       "      <td>851.000000</td>\n",
       "      <td>0.720000</td>\n",
       "      <td>0.250000</td>\n",
       "      <td>13.000000</td>\n",
       "      <td>6.000000</td>\n",
       "    </tr>\n",
       "    <tr>\n",
       "      <th rowspan=\"7\" valign=\"top\">4</th>\n",
       "      <th>0</th>\n",
       "      <td>2729.908046</td>\n",
       "      <td>0.455920</td>\n",
       "      <td>0.518046</td>\n",
       "      <td>0.994253</td>\n",
       "      <td>2.798851</td>\n",
       "    </tr>\n",
       "    <tr>\n",
       "      <th>1</th>\n",
       "      <td>577.371429</td>\n",
       "      <td>0.513857</td>\n",
       "      <td>0.476714</td>\n",
       "      <td>2.328571</td>\n",
       "      <td>3.142857</td>\n",
       "    </tr>\n",
       "    <tr>\n",
       "      <th>2</th>\n",
       "      <td>637.650000</td>\n",
       "      <td>0.550000</td>\n",
       "      <td>0.397500</td>\n",
       "      <td>3.850000</td>\n",
       "      <td>2.250000</td>\n",
       "    </tr>\n",
       "    <tr>\n",
       "      <th>3</th>\n",
       "      <td>662.000000</td>\n",
       "      <td>0.620000</td>\n",
       "      <td>0.250000</td>\n",
       "      <td>13.000000</td>\n",
       "      <td>0.000000</td>\n",
       "    </tr>\n",
       "    <tr>\n",
       "      <th>4</th>\n",
       "      <td>646.600000</td>\n",
       "      <td>0.584000</td>\n",
       "      <td>0.430000</td>\n",
       "      <td>4.800000</td>\n",
       "      <td>1.200000</td>\n",
       "    </tr>\n",
       "    <tr>\n",
       "      <th>6</th>\n",
       "      <td>644.333333</td>\n",
       "      <td>0.553333</td>\n",
       "      <td>0.416667</td>\n",
       "      <td>13.666667</td>\n",
       "      <td>4.333333</td>\n",
       "    </tr>\n",
       "    <tr>\n",
       "      <th>7</th>\n",
       "      <td>416.000000</td>\n",
       "      <td>0.320000</td>\n",
       "      <td>0.150000</td>\n",
       "      <td>14.000000</td>\n",
       "      <td>0.000000</td>\n",
       "    </tr>\n",
       "    <tr>\n",
       "      <th rowspan=\"9\" valign=\"top\">5</th>\n",
       "      <th>0</th>\n",
       "      <td>2709.489051</td>\n",
       "      <td>0.527372</td>\n",
       "      <td>0.421095</td>\n",
       "      <td>1.729927</td>\n",
       "      <td>2.817518</td>\n",
       "    </tr>\n",
       "    <tr>\n",
       "      <th>1</th>\n",
       "      <td>649.172414</td>\n",
       "      <td>0.567241</td>\n",
       "      <td>0.463966</td>\n",
       "      <td>2.120690</td>\n",
       "      <td>3.258621</td>\n",
       "    </tr>\n",
       "    <tr>\n",
       "      <th>2</th>\n",
       "      <td>637.500000</td>\n",
       "      <td>0.549615</td>\n",
       "      <td>0.490385</td>\n",
       "      <td>5.576923</td>\n",
       "      <td>5.115385</td>\n",
       "    </tr>\n",
       "    <tr>\n",
       "      <th>3</th>\n",
       "      <td>706.800000</td>\n",
       "      <td>0.610000</td>\n",
       "      <td>0.640000</td>\n",
       "      <td>4.800000</td>\n",
       "      <td>2.400000</td>\n",
       "    </tr>\n",
       "    <tr>\n",
       "      <th>4</th>\n",
       "      <td>507.000000</td>\n",
       "      <td>0.520000</td>\n",
       "      <td>0.550000</td>\n",
       "      <td>0.000000</td>\n",
       "      <td>4.000000</td>\n",
       "    </tr>\n",
       "    <tr>\n",
       "      <th>6</th>\n",
       "      <td>806.666667</td>\n",
       "      <td>0.703333</td>\n",
       "      <td>0.250000</td>\n",
       "      <td>14.000000</td>\n",
       "      <td>4.333333</td>\n",
       "    </tr>\n",
       "    <tr>\n",
       "      <th>7</th>\n",
       "      <td>743.250000</td>\n",
       "      <td>0.645000</td>\n",
       "      <td>0.400000</td>\n",
       "      <td>11.250000</td>\n",
       "      <td>4.250000</td>\n",
       "    </tr>\n",
       "    <tr>\n",
       "      <th>8</th>\n",
       "      <td>525.000000</td>\n",
       "      <td>0.520000</td>\n",
       "      <td>0.250000</td>\n",
       "      <td>14.000000</td>\n",
       "      <td>7.000000</td>\n",
       "    </tr>\n",
       "    <tr>\n",
       "      <th>9</th>\n",
       "      <td>663.000000</td>\n",
       "      <td>0.620000</td>\n",
       "      <td>0.250000</td>\n",
       "      <td>14.000000</td>\n",
       "      <td>10.000000</td>\n",
       "    </tr>\n",
       "  </tbody>\n",
       "</table>\n",
       "</div>"
      ],
      "text/plain": [
       "                 Unnamed: 0       age    income    reduced     health\n",
       "illness visits                                                       \n",
       "0       0       3409.038647  0.368620  0.642443   0.033816   0.410628\n",
       "        1        576.791209  0.457033  0.601209   0.010989   0.670330\n",
       "        2        703.000000  0.532500  0.363333   2.416667   0.583333\n",
       "        3        283.000000  0.220000  0.900000   0.000000   0.000000\n",
       "        4       1023.000000  0.720000  0.250000   0.000000   4.000000\n",
       "1       0       3126.157175  0.369932  0.611162   0.472285   0.850418\n",
       "        1        476.344130  0.440121  0.566316   2.218623   1.323887\n",
       "        2        436.200000  0.406750  0.588750   2.125000   2.050000\n",
       "        3        339.666667  0.335556  0.390000   4.444444   2.555556\n",
       "        4        282.700000  0.274000  0.651000   8.600000   2.100000\n",
       "        5        393.285714  0.372857  0.692857   9.714286   2.142857\n",
       "        6        757.333333  0.653333  0.316667   9.666667   5.333333\n",
       "        7        405.000000  0.386667  0.416667  10.333333   1.333333\n",
       "        8        614.500000  0.595000  0.755000  11.500000   2.500000\n",
       "2       0       2894.434593  0.412515  0.574099   0.534884   1.449128\n",
       "        1        469.452128  0.434202  0.560798   1.739362   1.851064\n",
       "        2        454.760000  0.422400  0.481400   2.720000   1.980000\n",
       "        3        553.750000  0.470000  0.706250   4.750000   2.750000\n",
       "        4        529.750000  0.512500  0.350000  10.500000   5.000000\n",
       "        5        532.000000  0.520000  1.300000   3.000000   0.000000\n",
       "        6        475.500000  0.445000  0.775000  12.500000   2.000000\n",
       "        7        648.333333  0.553333  0.383333   7.333333   1.666667\n",
       "        8        395.500000  0.430000  0.250000  10.500000   2.500000\n",
       "3       0       2727.390957  0.424628  0.525984   0.843085   1.718085\n",
       "        1        588.054688  0.527500  0.465234   1.937500   1.875000\n",
       "        2        490.769231  0.449231  0.444615   4.000000   2.000000\n",
       "        3        480.500000  0.436667  0.516667   4.333333   5.333333\n",
       "        4        393.666667  0.376667  0.133333   1.333333   3.000000\n",
       "        5        198.000000  0.220000  0.450000   5.000000  10.000000\n",
       "        6        868.000000  0.720000  0.250000  14.000000   2.000000\n",
       "        7        851.000000  0.720000  0.250000  13.000000   6.000000\n",
       "4       0       2729.908046  0.455920  0.518046   0.994253   2.798851\n",
       "        1        577.371429  0.513857  0.476714   2.328571   3.142857\n",
       "        2        637.650000  0.550000  0.397500   3.850000   2.250000\n",
       "        3        662.000000  0.620000  0.250000  13.000000   0.000000\n",
       "        4        646.600000  0.584000  0.430000   4.800000   1.200000\n",
       "        6        644.333333  0.553333  0.416667  13.666667   4.333333\n",
       "        7        416.000000  0.320000  0.150000  14.000000   0.000000\n",
       "5       0       2709.489051  0.527372  0.421095   1.729927   2.817518\n",
       "        1        649.172414  0.567241  0.463966   2.120690   3.258621\n",
       "        2        637.500000  0.549615  0.490385   5.576923   5.115385\n",
       "        3        706.800000  0.610000  0.640000   4.800000   2.400000\n",
       "        4        507.000000  0.520000  0.550000   0.000000   4.000000\n",
       "        6        806.666667  0.703333  0.250000  14.000000   4.333333\n",
       "        7        743.250000  0.645000  0.400000  11.250000   4.250000\n",
       "        8        525.000000  0.520000  0.250000  14.000000   7.000000\n",
       "        9        663.000000  0.620000  0.250000  14.000000  10.000000"
      ]
     },
     "execution_count": 27,
     "metadata": {},
     "output_type": "execute_result"
    }
   ],
   "source": [
    "dv.groupby(['illness','visits']).mean()"
   ]
  },
  {
   "cell_type": "code",
   "execution_count": 28,
   "metadata": {
    "colab": {
     "base_uri": "https://localhost:8080/",
     "height": 444
    },
    "id": "v7nXTm2aTIxB",
    "outputId": "cb65de04-f4fe-4d18-c040-01b229c1a544"
   },
   "outputs": [
    {
     "data": {
      "image/png": "[encoded data removed]",
      "text/plain": [
       "<Figure size 500x500 with 1 Axes>"
      ]
     },
     "metadata": {},
     "output_type": "display_data"
    }
   ],
   "source": [
    "label=['female', 'male']\n",
    "\n",
    "Y=dv[dv['gender']=='male']\n",
    "N=dv[dv['gender']=='female']\n",
    "x = [Y.shape[0],N.shape[0]]\n",
    "plt.figure(figsize=(5,5))\n",
    "colors = [ 'b','y']\n",
    "plt.pie(x, labels=label,colors=colors,autopct='%1.1f%%')\n",
    "plt.title(\"Percenatge of male and female visiting doctor\")\n",
    "plt.show()"
   ]
  },
  {
   "cell_type": "code",
   "execution_count": 29,
   "metadata": {
    "colab": {
     "base_uri": "https://localhost:8080/",
     "height": 467
    },
    "id": "QJpaWgV2TvpE",
    "outputId": "45ae08be-e8c7-4a05-a99f-5623218a5e0b"
   },
   "outputs": [
    {
     "data": {
      "text/plain": [
       "<Axes: xlabel='health', ylabel='Count'>"
      ]
     },
     "execution_count": 29,
     "metadata": {},
     "output_type": "execute_result"
    },
    {
     "data": {
      "image/png": "[encoded data removed]",
      "text/plain": [
       "<Figure size 640x480 with 1 Axes>"
      ]
     },
     "metadata": {},
     "output_type": "display_data"
    }
   ],
   "source": [
    "snb.histplot(dv.health,bins=12)"
   ]
  },
  {
   "cell_type": "code",
   "execution_count": 30,
   "metadata": {
    "colab": {
     "base_uri": "https://localhost:8080/",
     "height": 467
    },
    "id": "2m6P_gBYaF4_",
    "outputId": "28d40a2c-2bba-46cd-ffae-cc7ab809f8ab"
   },
   "outputs": [
    {
     "data": {
      "text/plain": [
       "<Axes: xlabel='illness', ylabel='Count'>"
      ]
     },
     "execution_count": 30,
     "metadata": {},
     "output_type": "execute_result"
    },
    {
     "data": {
      "image/png": "[encoded data removed]",
      "text/plain": [
       "<Figure size 640x480 with 1 Axes>"
      ]
     },
     "metadata": {},
     "output_type": "display_data"
    }
   ],
   "source": [
    "snb.histplot(dv.illness,bins=12)"
   ]
  },
  {
   "cell_type": "code",
   "execution_count": 31,
   "metadata": {
    "colab": {
     "base_uri": "https://localhost:8080/",
     "height": 467
    },
    "id": "z2nUPsEIcXGa",
    "outputId": "1544c582-c56b-4b63-c4c6-459dfa481baa"
   },
   "outputs": [
    {
     "data": {
      "text/plain": [
       "<Axes: xlabel='gender', ylabel='illness'>"
      ]
     },
     "execution_count": 31,
     "metadata": {},
     "output_type": "execute_result"
    },
    {
     "data": {
      "image/png": "[encoded data removed]",
      "text/plain": [
       "<Figure size 640x480 with 1 Axes>"
      ]
     },
     "metadata": {},
     "output_type": "display_data"
    }
   ],
   "source": [
    "snb.histplot(dv,x='gender',y='illness',bins=12)"
   ]
  },
  {
   "cell_type": "code",
   "execution_count": 32,
   "metadata": {
    "colab": {
     "base_uri": "https://localhost:8080/",
     "height": 467
    },
    "id": "ikb0RxZPbP0B",
    "outputId": "f403cf8f-8fc2-4d35-825c-3f3b360c8187"
   },
   "outputs": [
    {
     "data": {
      "text/plain": [
       "<Axes: xlabel='gender', ylabel='Count'>"
      ]
     },
     "execution_count": 32,
     "metadata": {},
     "output_type": "execute_result"
    },
    {
     "data": {
      "image/png": "[encoded data removed]",
      "text/plain": [
       "<Figure size 640x480 with 1 Axes>"
      ]
     },
     "metadata": {},
     "output_type": "display_data"
    }
   ],
   "source": [
    "snb.histplot(dv,x='gender',hue='illness',bins=12)"
   ]
  },
  {
   "cell_type": "code",
   "execution_count": 33,
   "metadata": {
    "colab": {
     "base_uri": "https://localhost:8080/",
     "height": 467
    },
    "id": "bfGXZwkGb9kp",
    "outputId": "d63f181d-6f27-4074-d90c-065dc0524c71"
   },
   "outputs": [
    {
     "data": {
      "text/plain": [
       "<Axes: xlabel='illness', ylabel='Count'>"
      ]
     },
     "execution_count": 33,
     "metadata": {},
     "output_type": "execute_result"
    },
    {
     "data": {
      "image/png": "[encoded data removed]",
      "text/plain": [
       "<Figure size 640x480 with 1 Axes>"
      ]
     },
     "metadata": {},
     "output_type": "display_data"
    }
   ],
   "source": [
    "snb.histplot(dv,x='illness',hue='age',bins=12)"
   ]
  },
  {
   "cell_type": "code",
   "execution_count": 34,
   "metadata": {
    "colab": {
     "base_uri": "https://localhost:8080/",
     "height": 467
    },
    "id": "67MPLhEacmgq",
    "outputId": "7aedfa21-a02e-44f0-bf56-7befa08a7898"
   },
   "outputs": [
    {
     "data": {
      "text/plain": [
       "<Axes: xlabel='gender', ylabel='Count'>"
      ]
     },
     "execution_count": 34,
     "metadata": {},
     "output_type": "execute_result"
    },
    {
     "data": {
      "image/png": "[encoded data removed]",
      "text/plain": [
       "<Figure size 640x480 with 1 Axes>"
      ]
     },
     "metadata": {},
     "output_type": "display_data"
    }
   ],
   "source": [
    "snb.histplot(dv,x='gender',hue='lchronic',bins=12)"
   ]
  },
  {
   "cell_type": "code",
   "execution_count": null,
   "metadata": {
    "id": "yAv5qGN3cvay"
   },
   "outputs": [],
   "source": []
  }
 ],
 "metadata": {
  "colab": {
   "provenance": []
  },
  "kernelspec": {
   "display_name": "Python 3 (ipykernel)",
   "language": "python",
   "name": "python3"
  },
  "language_info": {
   "codemirror_mode": {
    "name": "ipython",
    "version": 3
   },
   "file_extension": ".py",
   "mimetype": "text/x-python",
   "name": "python",
   "nbconvert_exporter": "python",
   "pygments_lexer": "ipython3",
   "version": "3.11.3"
  }
 },
 "nbformat": 4,
 "nbformat_minor": 1
}
